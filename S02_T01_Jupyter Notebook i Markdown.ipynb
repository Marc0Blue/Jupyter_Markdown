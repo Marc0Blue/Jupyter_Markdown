{
 "cells": [
  {
   "cell_type": "markdown",
   "id": "e6b3c864",
   "metadata": {
    "heading_collapsed": true
   },
   "source": [
    "# Operaciones Matemáticas "
   ]
  },
  {
   "cell_type": "markdown",
   "id": "40b784a7",
   "metadata": {
    "heading_collapsed": true,
    "hidden": true
   },
   "source": [
    "## 1 - Suma"
   ]
  },
  {
   "cell_type": "code",
   "execution_count": 9,
   "id": "78e5d979",
   "metadata": {
    "hidden": true
   },
   "outputs": [
    {
     "name": "stdout",
     "output_type": "stream",
     "text": [
      "7\n"
     ]
    }
   ],
   "source": [
    "# Variables numericas int\n",
    "x = 3 \n",
    "y = 4\n",
    "z = x+y\n",
    "print(z)"
   ]
  },
  {
   "cell_type": "markdown",
   "id": "8a324e28",
   "metadata": {
    "heading_collapsed": true,
    "hidden": true
   },
   "source": [
    "## 2 - Resta"
   ]
  },
  {
   "cell_type": "code",
   "execution_count": 8,
   "id": "d40d584a",
   "metadata": {
    "hidden": true
   },
   "outputs": [
    {
     "name": "stdout",
     "output_type": "stream",
     "text": [
      "-5\n"
     ]
    }
   ],
   "source": [
    "# Variables int\n",
    "x = 5\n",
    "y = 10\n",
    "z = x - y\n",
    "print(z)"
   ]
  },
  {
   "cell_type": "markdown",
   "id": "497bd36b",
   "metadata": {
    "heading_collapsed": true,
    "hidden": true
   },
   "source": [
    "## 3 - Multiplicación"
   ]
  },
  {
   "cell_type": "code",
   "execution_count": 11,
   "id": "aa05a1e7",
   "metadata": {
    "hidden": true
   },
   "outputs": [
    {
     "name": "stdout",
     "output_type": "stream",
     "text": [
      "62.300000000000004\n"
     ]
    }
   ],
   "source": [
    "# Variable float\n",
    "x = 8.9\n",
    "y = 7\n",
    "z = x * y\n",
    "print (z)"
   ]
  },
  {
   "cell_type": "markdown",
   "id": "7b9bf66a",
   "metadata": {
    "heading_collapsed": true,
    "hidden": true
   },
   "source": [
    "## 4 - División"
   ]
  },
  {
   "cell_type": "code",
   "execution_count": 23,
   "id": "ae2b1b1b",
   "metadata": {
    "hidden": true
   },
   "outputs": [
    {
     "name": "stdout",
     "output_type": "stream",
     "text": [
      "1.125\n"
     ]
    }
   ],
   "source": [
    "# Variable float\n",
    "x = 9\n",
    "y = 8\n",
    "z = x / y\n",
    "print(z)"
   ]
  },
  {
   "cell_type": "markdown",
   "id": "d8a97283",
   "metadata": {
    "heading_collapsed": true
   },
   "source": [
    "# Transformaciones"
   ]
  },
  {
   "cell_type": "code",
   "execution_count": 32,
   "id": "59204410",
   "metadata": {
    "hidden": true
   },
   "outputs": [
    {
     "name": "stdout",
     "output_type": "stream",
     "text": [
      "3\n"
     ]
    }
   ],
   "source": [
    "# De float a int\n",
    "x = 3.141656569465 #Float\n",
    "x = int(x)\n",
    "print(x)"
   ]
  },
  {
   "cell_type": "code",
   "execution_count": 33,
   "id": "5951b0c4",
   "metadata": {
    "hidden": true
   },
   "outputs": [
    {
     "name": "stdout",
     "output_type": "stream",
     "text": [
      "35.5\n"
     ]
    }
   ],
   "source": [
    "# De String a float\n",
    "a = \"35.5\"\n",
    "print(float(a))"
   ]
  },
  {
   "cell_type": "markdown",
   "id": "5bdd269b",
   "metadata": {
    "heading_collapsed": true
   },
   "source": [
    "# Operaciones con Strings"
   ]
  },
  {
   "cell_type": "markdown",
   "id": "d8349e4d",
   "metadata": {
    "heading_collapsed": true,
    "hidden": true
   },
   "source": [
    "## Lógica con String"
   ]
  },
  {
   "cell_type": "code",
   "execution_count": 19,
   "id": "1e5b272f",
   "metadata": {
    "hidden": true
   },
   "outputs": [
    {
     "name": "stdout",
     "output_type": "stream",
     "text": [
      "El ganador es b\n"
     ]
    }
   ],
   "source": [
    "# Variables numéricas con respuesta que se imprime en String\n",
    "a = 9\n",
    "b = 10\n",
    "if a > b:\n",
    "    print(\"El ganador es a\")\n",
    "else:\n",
    "    print(\"El ganador es b\")"
   ]
  },
  {
   "cell_type": "code",
   "execution_count": 25,
   "id": "da6c2e6f",
   "metadata": {
    "hidden": true
   },
   "outputs": [
    {
     "name": "stdout",
     "output_type": "stream",
     "text": [
      "Hola Mundo.\n"
     ]
    }
   ],
   "source": [
    "# Variable String en logica\n",
    "a = 'Hola '\n",
    "b = 'Mundo.'\n",
    "z = a + b\n",
    "print(z)"
   ]
  },
  {
   "cell_type": "markdown",
   "id": "d06adf3f",
   "metadata": {
    "heading_collapsed": true,
    "hidden": true
   },
   "source": [
    "## Booleans"
   ]
  },
  {
   "cell_type": "code",
   "execution_count": 38,
   "id": "48fb9cbf",
   "metadata": {
    "hidden": true
   },
   "outputs": [
    {
     "name": "stdout",
     "output_type": "stream",
     "text": [
      "False\n"
     ]
    }
   ],
   "source": [
    "# Lógica True y False\n",
    "x = 10\n",
    "y = 11\n",
    "print(bool(x==y))"
   ]
  },
  {
   "cell_type": "code",
   "execution_count": 40,
   "id": "c388df49",
   "metadata": {
    "hidden": true
   },
   "outputs": [
    {
     "name": "stdout",
     "output_type": "stream",
     "text": [
      "True\n"
     ]
    }
   ],
   "source": [
    "a = 5\n",
    "b = 10\n",
    "print(bool(a < b))"
   ]
  },
  {
   "cell_type": "code",
   "execution_count": 46,
   "id": "002db95d",
   "metadata": {
    "hidden": true
   },
   "outputs": [
    {
     "name": "stdout",
     "output_type": "stream",
     "text": [
      "False\n",
      "True\n",
      "True\n"
     ]
    }
   ],
   "source": [
    "q = 0\n",
    "print(bool(q)) \n",
    "w = 4\n",
    "print(bool(w))\n",
    "e = -94.15\n",
    "print(bool(e))"
   ]
  }
 ],
 "metadata": {
  "kernelspec": {
   "display_name": "Python 3",
   "language": "python",
   "name": "python3"
  },
  "language_info": {
   "codemirror_mode": {
    "name": "ipython",
    "version": 3
   },
   "file_extension": ".py",
   "mimetype": "text/x-python",
   "name": "python",
   "nbconvert_exporter": "python",
   "pygments_lexer": "ipython3",
   "version": "3.8.8"
  }
 },
 "nbformat": 4,
 "nbformat_minor": 5
}
